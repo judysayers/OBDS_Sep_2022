{
 "cells": [
  {
   "cell_type": "markdown",
   "id": "12533ba6-a414-4fe7-8bec-d4f27d39b2e5",
   "metadata": {},
   "source": [
    "# Using ML techniques to infer a multiplier\n",
    "\n",
    "### Scenario\n",
    "\n",
    "You discover that the number of apple seeds is directly tied to the overall height of the fruit, the seed count just needs to be multiplied by some fixed number. Create a model such that given the number of seeds, you can predict the height of the fruit. ***Use an iterative guessing approach to estimate the value of the multiplier.***"
   ]
  },
  {
   "cell_type": "markdown",
   "id": "2cc3efe5-553f-4be9-95e0-ee1a4c96ebea",
   "metadata": {},
   "source": [
    "### We use two packages for this\n",
    "1. random - to generate random numbers\n",
    "2. numpy - this package handles matricies (or more technically arrays, which may have more dimensions than a matrix)"
   ]
  },
  {
   "cell_type": "code",
   "execution_count": 3,
   "id": "6359a1f8-8f41-4709-9898-7faf13fa5d4a",
   "metadata": {},
   "outputs": [],
   "source": [
    "import random\n",
    "import numpy as np"
   ]
  },
  {
   "cell_type": "markdown",
   "id": "b9bcff20-4918-4051-838a-8e9e788d0400",
   "metadata": {},
   "source": [
    "## Part 1 - Set up data"
   ]
  },
  {
   "cell_type": "markdown",
   "id": "21f82737-0ec7-4981-aaea-b95537961a83",
   "metadata": {},
   "source": [
    "### Randomly select the multiplier\n",
    "This will be the value the seed count is multiplied by, and the number we're trying to discover\n",
    "* Select a random number between 10 and 100 (uniform distribution) and set it equal to a variable named \"actual_multiplier\""
   ]
  },
  {
   "cell_type": "code",
   "execution_count": 4,
   "id": "767e5ea2-fd39-42c8-a615-34ebaff96076",
   "metadata": {},
   "outputs": [
    {
     "name": "stdout",
     "output_type": "stream",
     "text": [
      "51.371830538793944\n"
     ]
    }
   ],
   "source": [
    "actual_multiplier = random.uniform(10, 100)\n",
    "print(actual_multiplier)\n",
    "\n",
    "# random.randint() to get random integers"
   ]
  },
  {
   "cell_type": "markdown",
   "id": "f27dd8bf-eaa5-4006-9ab8-d6905ddc249e",
   "metadata": {},
   "source": [
    "### Collect some apple seeds\n",
    "Collect some samples of apple seeds, and measure the associated fruits\n",
    "* To start we'll use 10 samples with different numbers of seeds in each sample. Here we'll use numbers 1, 2, ..., 9, 10\n",
    "    * Make a numpy array named seed_count_array with these values\n",
    "* For obvious reasons, we will not be measuring any apples right now. We're going to cheat a bit and say that the height of the associated apples were the number of seeds times our multiplier value plus noise\n",
    "    * Make a numpy array called apple_height_array that is length 10, and equal to the seed_count_array times the actual_multiplier\n",
    "    * Use the np.random.random method to create an array of length 10, and name it noise_array\n",
    "    * Add the values from the elements of the noise array to the elements of apple_height_array\n",
    "* Print out the actual_multiplier, seed_count_array, and apple_height_array"
   ]
  },
  {
   "cell_type": "code",
   "execution_count": 8,
   "id": "f3b5b472-30b9-49e1-bbe0-d5fa502896f2",
   "metadata": {},
   "outputs": [
    {
     "name": "stdout",
     "output_type": "stream",
     "text": [
      "51.371830538793944 [ 1  2  3  4  5  6  7  8  9 10] [ 52.2923979  102.78194399 155.06893204 205.77968503 256.89622942\n",
      " 308.87832652 360.11676964 411.72114744 462.35092103 514.10557629]\n"
     ]
    }
   ],
   "source": [
    "seed_count_array = np.arange(1,11)\n",
    "# or seed_count_array = np.array([x+1 for x in range(10)])\n",
    "\n",
    "apple_height_array = seed_count_array * actual_multiplier\n",
    "\n",
    "noise_array = np.random.random(size = 10)\n",
    "\n",
    "apple_height_array = apple_height_array + noise_array\n",
    "\n",
    "print(actual_multiplier, seed_count_array, apple_height_array)"
   ]
  },
  {
   "cell_type": "markdown",
   "id": "34c2c05d-d52f-4a38-be42-fc71c4e47f53",
   "metadata": {
    "jp-MarkdownHeadingCollapsed": true,
    "tags": []
   },
   "source": [
    "### Sidenote - How contrived is this exercise?\n",
    "\n",
    "This is toy problem where we know the answer before we start. The point of this example is understand overall process of iterative improvement. Relationships typically being modelled with ML are more complicated than a simple multiplier, but suprisingly little changes for more complex problems. Here we're modelling a single parameter, but many models used in biology have 10s of millions, but are built out of many simple calculations like our exercise. The math is more advanced (but maybe not as much as you might think) and beyond our scope, but wouldn't serve much practical use anyway since these calculations are never ever done by hand, and a comprehensive understanding of them is not strictly necessary unless researching novel algorithm designs."
   ]
  },
  {
   "cell_type": "markdown",
   "id": "7671afc0-8e38-41f7-aeba-5308772b45eb",
   "metadata": {
    "tags": []
   },
   "source": [
    "## Part 2 - Build out a training loop"
   ]
  },
  {
   "cell_type": "markdown",
   "id": "47364488-5e4e-4123-88dc-17465b0ce6ae",
   "metadata": {},
   "source": [
    "### Steps (Add steps from slides here)\n",
    "\n",
    "1. Write nested for-loops to 1) make a random prediction for each sample and 2) go through 10 epochs. Write a prediction function predict_multiplier for this that guesses a value from -100 to 100.\n",
    "\n",
    "2. Write a function calculate_loss that subtracts the prediction from the true value. (NB: the multiplier is the parameter we are trying to guess, the prediction is the multiplier times the number of seeds. At each step print the loss, predicted multiplier, actual multiplier, predicted target, actual target and number of seeds).\n",
    "\n",
    "3. Create a variable that keeps track of the best (lowest) loss value - best_loss. Make a list called best_param_list that appends another list of the loss, predicted multiplier, actual multiplier, predicted target, actual target, and number of seeds (making a list of lists) whenever a new variable is found. Increase the number of epochs \n",
    "\n",
    "4. Update the predict function to take in the previous step's prediction and loss to make the output more accurate. Add a step before your loop to initialise these values \n",
    "\n",
    "5. "
   ]
  },
  {
   "cell_type": "code",
   "execution_count": 57,
   "id": "0d91563a-f8a4-431b-a578-fed1ede1bbb6",
   "metadata": {},
   "outputs": [],
   "source": [
    "def random_multiplier(min_val, max_val):\n",
    "    multiplier = random.uniform(min_val,max_val)   \n",
    "    return multiplier"
   ]
  },
  {
   "cell_type": "code",
   "execution_count": 58,
   "id": "f7b0d68a-944b-47a8-b7f3-54670497b45a",
   "metadata": {},
   "outputs": [],
   "source": [
    "def limitbound(loss, guess, min_val, max_val):\n",
    "    \n",
    "    if loss > 0: #if loss is positive, guess was too small -> need to increase \n",
    "        min_val >= guess\n",
    "        return min_val\n",
    "\n",
    "    if loss < 0: #if loss is negative, guess was too big -> need to decrease\n",
    "        max_val <= guess\n",
    "        return max_val\n",
    "\n",
    " "
   ]
  },
  {
   "cell_type": "code",
   "execution_count": 53,
   "id": "83256044-e8f6-4c9b-867b-afdb2ceaefc4",
   "metadata": {},
   "outputs": [],
   "source": [
    "# my method for inc/dec guess in correct direction: would flip flop between +/-\n",
    "def predict_multiplier(loss, guess):\n",
    "    if loss > 0:\n",
    "        multiplier = guess + guess/10\n",
    "    if loss < 0:\n",
    "        multiplier = guess - guess/10\n",
    "    else:\n",
    "        multiplier = random.uniform(-100,100)\n",
    "    return multiplier"
   ]
  },
  {
   "cell_type": "code",
   "execution_count": null,
   "id": "2a840269-e954-4e01-95cb-b7a13202218f",
   "metadata": {},
   "outputs": [],
   "source": [
    "# lance solution for inc/dec guess in correct direction: better as introduces a learning rate where you don't jump between positive and negative\n",
    "def predict_multiplier(guess, loss):\n",
    "    return guess + loss*0.001"
   ]
  },
  {
   "cell_type": "code",
   "execution_count": 14,
   "id": "0e04a26f-1dc4-4f6c-9784-b2515d7896ac",
   "metadata": {},
   "outputs": [],
   "source": [
    "def calculate_loss(true_value, prediction):\n",
    "    return true_value - prediction"
   ]
  },
  {
   "cell_type": "code",
   "execution_count": null,
   "id": "ce33a654-6bac-427c-aa30-3e4b6e06b65f",
   "metadata": {},
   "outputs": [],
   "source": [
    "# 1 epoch_count = 10\n",
    "#for epoch in range(epoch_count):\n",
    "#    for sample in range(len(seed_count_array)):\n",
    "#        guess = predict_multiplier()\n",
    "#        print(guess)"
   ]
  },
  {
   "cell_type": "code",
   "execution_count": null,
   "id": "079e272d-0360-4fdf-85dc-a51470259107",
   "metadata": {},
   "outputs": [],
   "source": [
    "# 2 epoch_count = 10\n",
    "# for epoch in range(epoch_count):\n",
    "#    print('loss, prediction, apple_height_array[sample], guess, actual_multiplier, seed_count_array[sample]')\n",
    "#    for sample in range(len(seed_count_array)):\n",
    "#        guess = predict_multiplier()\n",
    "#        prediction = guess*seed_count_array[sample]\n",
    "#        loss = calculate_loss(apple_height_array[sample], prediction)\n",
    "#        print(loss, prediction, apple_height_array[sample], guess, actual_multiplier, seed_count_array[sample])"
   ]
  },
  {
   "cell_type": "code",
   "execution_count": null,
   "id": "5bb929ae-7fbb-4adc-8c26-bc161b056f2a",
   "metadata": {},
   "outputs": [],
   "source": [
    "epoch_count = 5 ### daft luck method\n",
    "best_loss = 1000\n",
    "best_param_list = []\n",
    "\n",
    "for epoch in range(epoch_count):\n",
    "    for sample in range(len(seed_count_array)): # need this format so that you create indices we can use for multiple arrays in a for loop. Alternative: for i, sample in enumerate():\n",
    "        guess = predict_multiplier()\n",
    "        prediction = guess*seed_count_array[sample]\n",
    "        loss = calculate_loss(apple_height_array[sample], prediction)\n",
    "        output = [loss, prediction, apple_height_array[sample], guess, actual_multiplier, seed_count_array[sample]]\n",
    "        if abs(loss) < abs(best_loss):\n",
    "            best_loss = loss\n",
    "            best_param_list.append(output)    \n",
    "print(best_loss)\n"
   ]
  },
  {
   "cell_type": "code",
   "execution_count": 38,
   "id": "117c17ac-c5e4-4ad6-837f-4341a25f1985",
   "metadata": {},
   "outputs": [
    {
     "name": "stdout",
     "output_type": "stream",
     "text": [
      "152.29239790077887\n",
      "[152.29239790077887, -100, 52.29239790077887, -100, 51.371830538793944, 1]\n"
     ]
    }
   ],
   "source": [
    "print(best_loss)\n",
    "for row in best_param_list:\n",
    "    print(row)"
   ]
  },
  {
   "cell_type": "code",
   "execution_count": 56,
   "id": "53483402-5d98-4865-addc-49057f4a04ef",
   "metadata": {},
   "outputs": [
    {
     "name": "stdout",
     "output_type": "stream",
     "text": [
      "-5.5867851784796585e-06\n"
     ]
    }
   ],
   "source": [
    "epoch_count = 10000 ### increase or decrease guess in correct direction method\n",
    "best_loss = 1000\n",
    "best_param_list = []\n",
    "guess = 50\n",
    "min_val = -100\n",
    "max_val = 100\n",
    "loss = 50\n",
    "\n",
    "for epoch in range(epoch_count):\n",
    "    for sample in range(len(seed_count_array)): # need this format so that you create indices we can use for multiple arrays in a for loop. Alternative: for i, sample in enumerate():\n",
    "        guess = predict_multiplier(loss, guess)\n",
    "        prediction = guess*seed_count_array[sample]\n",
    "        loss = calculate_loss(apple_height_array[sample], prediction)\n",
    "        output = [loss, prediction, apple_height_array[sample], guess, actual_multiplier, seed_count_array[sample]]\n",
    "        if abs(loss) < abs(best_loss):\n",
    "            best_loss = loss\n",
    "            best_param_list.append(output)  \n",
    "print(best_loss)"
   ]
  },
  {
   "cell_type": "code",
   "execution_count": 59,
   "id": "4f959c03-88b1-4af1-b899-592e131f9148",
   "metadata": {},
   "outputs": [
    {
     "name": "stdout",
     "output_type": "stream",
     "text": [
      "1.426923794128946\n"
     ]
    },
    {
     "name": "stderr",
     "output_type": "stream",
     "text": [
      "/var/folders/yv/l_1fgw5549sg8s9gt3z3fqnr0000gr/T/ipykernel_31951/3005068832.py:11: RuntimeWarning: overflow encountered in double_scalars\n",
      "  prediction = guess*seed_count_array[sample]\n",
      "/Users/judithsayers/opt/anaconda3/lib/python3.9/random.py:513: RuntimeWarning: invalid value encountered in double_scalars\n",
      "  return a + (b - a) * self.random()\n"
     ]
    }
   ],
   "source": [
    "epoch_count = 1000 ### narrow the bounds of the guess window method\n",
    "best_loss = 1000\n",
    "best_param_list = []\n",
    "min_val = -100\n",
    "max_val = 100\n",
    "\n",
    "\n",
    "for epoch in range(epoch_count):\n",
    "    for sample in range(len(seed_count_array)): # need this format so that you create indices we can use for multiple arrays in a for loop. Alternative: for i, sample in enumerate():\n",
    "        guess = random_multiplier(loss, guess)\n",
    "        prediction = guess*seed_count_array[sample]\n",
    "        loss = calculate_loss(apple_height_array[sample], prediction)\n",
    "        output = [loss, prediction, apple_height_array[sample], guess, actual_multiplier, seed_count_array[sample]]\n",
    "        if abs(loss) < abs(best_loss):\n",
    "            best_loss = loss\n",
    "            best_param_list.append(output)  \n",
    "        limitbound(loss, guess, min_val, max_val)\n",
    "print(best_loss)"
   ]
  },
  {
   "cell_type": "code",
   "execution_count": null,
   "id": "1a1a2737-da38-4388-a77c-37a896736d0c",
   "metadata": {},
   "outputs": [],
   "source": []
  }
 ],
 "metadata": {
  "kernelspec": {
   "display_name": "Python 3 (ipykernel)",
   "language": "python",
   "name": "python3"
  },
  "language_info": {
   "codemirror_mode": {
    "name": "ipython",
    "version": 3
   },
   "file_extension": ".py",
   "mimetype": "text/x-python",
   "name": "python",
   "nbconvert_exporter": "python",
   "pygments_lexer": "ipython3",
   "version": "3.9.12"
  }
 },
 "nbformat": 4,
 "nbformat_minor": 5
}
