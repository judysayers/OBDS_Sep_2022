{
 "cells": [
  {
   "cell_type": "markdown",
   "id": "51414f95-affd-4cba-b46a-c134e0e29e76",
   "metadata": {
    "tags": []
   },
   "source": [
    "# MNIST classification using a SGD classifier and Scikit-Learn functions"
   ]
  },
  {
   "cell_type": "markdown",
   "id": "95c84858-d6a3-4d04-8494-5288c9a33d0a",
   "metadata": {},
   "source": [
    "### A few packages to get you going\n",
    "* We'll be loading many more throughout the tutorial\n",
    "* Download the dataset by executing the proceeding cells"
   ]
  },
  {
   "cell_type": "code",
   "execution_count": 111,
   "id": "a0fd32d7-d9f4-4e80-bb42-0877c2f51eee",
   "metadata": {},
   "outputs": [],
   "source": [
    "from sklearn.datasets import fetch_openml\n",
    "import matplotlib.pyplot as plt\n",
    "import numpy as np"
   ]
  },
  {
   "cell_type": "code",
   "execution_count": 2,
   "id": "a0afab77-e9d7-412e-ae78-7880cfad6c73",
   "metadata": {},
   "outputs": [],
   "source": [
    "mnist = fetch_openml('mnist_784', version=1, as_frame=False)"
   ]
  },
  {
   "cell_type": "markdown",
   "id": "240b1038-13d3-4d90-b775-657c04c3a981",
   "metadata": {},
   "source": [
    "* Print dictionary keys"
   ]
  },
  {
   "cell_type": "code",
   "execution_count": 4,
   "id": "63ba03b9-7671-4b20-b96e-821d2c8bc240",
   "metadata": {},
   "outputs": [
    {
     "data": {
      "text/plain": [
       "dict_keys(['data', 'target', 'frame', 'categories', 'feature_names', 'target_names', 'DESCR', 'details', 'url'])"
      ]
     },
     "execution_count": 4,
     "metadata": {},
     "output_type": "execute_result"
    }
   ],
   "source": [
    "print(mnist.keys())\n",
    "# or: for key in mnist:\n",
    "    # print(key)"
   ]
  },
  {
   "cell_type": "markdown",
   "id": "61367a84-b553-4aa9-86bb-1b27ac72c619",
   "metadata": {},
   "source": [
    "* Save the contents of the data and target from the MNIST dictionary into data_array and target array variables\n",
    "    * Also print out the shape of data_array\n",
    "* Notice the type of the target array – convert this to np.uint8 using the astype() method"
   ]
  },
  {
   "cell_type": "code",
   "execution_count": 14,
   "id": "49455c61-01d9-4eab-b8fa-3f8ebb270f06",
   "metadata": {},
   "outputs": [
    {
     "name": "stdout",
     "output_type": "stream",
     "text": [
      "[[0. 0. 0. ... 0. 0. 0.]\n",
      " [0. 0. 0. ... 0. 0. 0.]\n",
      " [0. 0. 0. ... 0. 0. 0.]\n",
      " ...\n",
      " [0. 0. 0. ... 0. 0. 0.]\n",
      " [0. 0. 0. ... 0. 0. 0.]\n",
      " [0. 0. 0. ... 0. 0. 0.]]\n"
     ]
    }
   ],
   "source": [
    "data_array = np.array(mnist['data'])\n",
    "print(data_array)"
   ]
  },
  {
   "cell_type": "code",
   "execution_count": 15,
   "id": "4d2cdd96-32ee-4a98-be96-7da75a9635fa",
   "metadata": {},
   "outputs": [
    {
     "data": {
      "text/plain": [
       "(70000, 784)"
      ]
     },
     "execution_count": 15,
     "metadata": {},
     "output_type": "execute_result"
    }
   ],
   "source": [
    "data_array.shape"
   ]
  },
  {
   "cell_type": "code",
   "execution_count": 9,
   "id": "37a19326-c631-4f7f-8db0-e05277d91212",
   "metadata": {},
   "outputs": [
    {
     "name": "stdout",
     "output_type": "stream",
     "text": [
      "object\n"
     ]
    }
   ],
   "source": [
    "target_array = np.array(mnist['target'])\n",
    "print(target_array.dtype)"
   ]
  },
  {
   "cell_type": "code",
   "execution_count": 43,
   "id": "bbd23268-acc5-4b7a-b0ce-112a96aad64a",
   "metadata": {},
   "outputs": [],
   "source": [
    "target_array = target_array.astype(np.uint8)"
   ]
  },
  {
   "cell_type": "markdown",
   "id": "77e43f92-3394-4192-925e-f89ac996beeb",
   "metadata": {},
   "source": [
    "* Print and glance over the description given in the mnist dictionary\n",
    "* Plot an image of the very first image in the dataset (matplotlib imshow)\n",
    "\n",
    "* Bonus ACTIVITY: Write a function that takes in the index of a sample and plots it\n"
   ]
  },
  {
   "cell_type": "code",
   "execution_count": 13,
   "id": "3502601a-3b9a-4369-91d2-adb3d6bd17ec",
   "metadata": {},
   "outputs": [
    {
     "name": "stdout",
     "output_type": "stream",
     "text": [
      "**Author**: Yann LeCun, Corinna Cortes, Christopher J.C. Burges  \n",
      "**Source**: [MNIST Website](http://yann.lecun.com/exdb/mnist/) - Date unknown  \n",
      "**Please cite**:  \n",
      "\n",
      "The MNIST database of handwritten digits with 784 features, raw data available at: http://yann.lecun.com/exdb/mnist/. It can be split in a training set of the first 60,000 examples, and a test set of 10,000 examples  \n",
      "\n",
      "It is a subset of a larger set available from NIST. The digits have been size-normalized and centered in a fixed-size image. It is a good database for people who want to try learning techniques and pattern recognition methods on real-world data while spending minimal efforts on preprocessing and formatting. The original black and white (bilevel) images from NIST were size normalized to fit in a 20x20 pixel box while preserving their aspect ratio. The resulting images contain grey levels as a result of the anti-aliasing technique used by the normalization algorithm. the images were centered in a 28x28 image by computing the center of mass of the pixels, and translating the image so as to position this point at the center of the 28x28 field.  \n",
      "\n",
      "With some classification methods (particularly template-based methods, such as SVM and K-nearest neighbors), the error rate improves when the digits are centered by bounding box rather than center of mass. If you do this kind of pre-processing, you should report it in your publications. The MNIST database was constructed from NIST's NIST originally designated SD-3 as their training set and SD-1 as their test set. However, SD-3 is much cleaner and easier to recognize than SD-1. The reason for this can be found on the fact that SD-3 was collected among Census Bureau employees, while SD-1 was collected among high-school students. Drawing sensible conclusions from learning experiments requires that the result be independent of the choice of training set and test among the complete set of samples. Therefore it was necessary to build a new database by mixing NIST's datasets.  \n",
      "\n",
      "The MNIST training set is composed of 30,000 patterns from SD-3 and 30,000 patterns from SD-1. Our test set was composed of 5,000 patterns from SD-3 and 5,000 patterns from SD-1. The 60,000 pattern training set contained examples from approximately 250 writers. We made sure that the sets of writers of the training set and test set were disjoint. SD-1 contains 58,527 digit images written by 500 different writers. In contrast to SD-3, where blocks of data from each writer appeared in sequence, the data in SD-1 is scrambled. Writer identities for SD-1 is available and we used this information to unscramble the writers. We then split SD-1 in two: characters written by the first 250 writers went into our new training set. The remaining 250 writers were placed in our test set. Thus we had two sets with nearly 30,000 examples each. The new training set was completed with enough examples from SD-3, starting at pattern # 0, to make a full set of 60,000 training patterns. Similarly, the new test set was completed with SD-3 examples starting at pattern # 35,000 to make a full set with 60,000 test patterns. Only a subset of 10,000 test images (5,000 from SD-1 and 5,000 from SD-3) is available on this site. The full 60,000 sample training set is available.\n",
      "\n",
      "Downloaded from openml.org.\n"
     ]
    }
   ],
   "source": [
    "print(mnist['DESCR'])"
   ]
  },
  {
   "cell_type": "code",
   "execution_count": 17,
   "id": "5dd44eb4-8d58-4f30-8711-39bfaa28ea06",
   "metadata": {},
   "outputs": [
    {
     "data": {
      "text/plain": [
       "<matplotlib.image.AxesImage at 0x7fc0691d3820>"
      ]
     },
     "execution_count": 17,
     "metadata": {},
     "output_type": "execute_result"
    },
    {
     "data": {
      "image/png": "[encoded data removed]",
      "text/plain": [
       "<Figure size 432x288 with 1 Axes>"
      ]
     },
     "metadata": {
      "needs_background": "light"
     },
     "output_type": "display_data"
    }
   ],
   "source": [
    "plt.imshow(X = data_array[0].reshape(28,28), aspect = 'equal')"
   ]
  },
  {
   "cell_type": "code",
   "execution_count": 20,
   "id": "ae811ba9-e821-4a5a-9e9b-55488555d68d",
   "metadata": {},
   "outputs": [
    {
     "data": {
      "image/png": "[encoded data removed]",
      "text/plain": [
       "<Figure size 432x288 with 1 Axes>"
      ]
     },
     "metadata": {
      "needs_background": "light"
     },
     "output_type": "display_data"
    }
   ],
   "source": [
    "def index_plot(i):\n",
    "    plt.imshow(X = data_array[i].reshape(28,28), aspect = 'equal')\n",
    "\n",
    "index_plot(5)"
   ]
  },
  {
   "cell_type": "markdown",
   "id": "c98ac73c-f452-4252-b4e2-871be516f96e",
   "metadata": {},
   "source": [
    "### train_test_split\n",
    "* apply train_test_split function in SciKitlearn to the dataset\n",
    "turn off shuffle\n",
    "# NB : generally use 80% of dataset for training, 20% for testing"
   ]
  },
  {
   "cell_type": "code",
   "execution_count": 44,
   "id": "b43cecf1-a1aa-4d9c-9679-e29c3538f88e",
   "metadata": {},
   "outputs": [
    {
     "name": "stdout",
     "output_type": "stream",
     "text": [
      "[[0. 0. 0. ... 0. 0. 0.]\n",
      " [0. 0. 0. ... 0. 0. 0.]\n",
      " [0. 0. 0. ... 0. 0. 0.]\n",
      " ...\n",
      " [0. 0. 0. ... 0. 0. 0.]\n",
      " [0. 0. 0. ... 0. 0. 0.]\n",
      " [0. 0. 0. ... 0. 0. 0.]] [[0. 0. 0. ... 0. 0. 0.]\n",
      " [0. 0. 0. ... 0. 0. 0.]\n",
      " [0. 0. 0. ... 0. 0. 0.]\n",
      " ...\n",
      " [0. 0. 0. ... 0. 0. 0.]\n",
      " [0. 0. 0. ... 0. 0. 0.]\n",
      " [0. 0. 0. ... 0. 0. 0.]] [5 0 4 ... 7 1 4] [9 2 6 ... 4 5 6]\n"
     ]
    }
   ],
   "source": [
    "from sklearn.model_selection import train_test_split\n",
    "data_train, data_test, target_train, target_test = train_test_split(data_array, target_array, shuffle=False)\n",
    "print(data_train, data_test, target_train, target_test)"
   ]
  },
  {
   "cell_type": "code",
   "execution_count": 25,
   "id": "e1984b5a-6dc7-4235-a9e8-2fbe961687b3",
   "metadata": {},
   "outputs": [
    {
     "data": {
      "text/plain": [
       "(52500, 784)"
      ]
     },
     "execution_count": 25,
     "metadata": {},
     "output_type": "execute_result"
    }
   ],
   "source": [
    "data_train.shape"
   ]
  },
  {
   "cell_type": "code",
   "execution_count": 26,
   "id": "a5109c11-e5bc-4b1d-a756-db453b7f57df",
   "metadata": {},
   "outputs": [
    {
     "data": {
      "text/plain": [
       "(17500, 784)"
      ]
     },
     "execution_count": 26,
     "metadata": {},
     "output_type": "execute_result"
    }
   ],
   "source": [
    "data_test.shape"
   ]
  },
  {
   "cell_type": "code",
   "execution_count": 27,
   "id": "83a87273-52b1-4ed3-b713-8339fe5b83e8",
   "metadata": {},
   "outputs": [
    {
     "data": {
      "text/plain": [
       "(52500,)"
      ]
     },
     "execution_count": 27,
     "metadata": {},
     "output_type": "execute_result"
    }
   ],
   "source": [
    "target_train.shape"
   ]
  },
  {
   "cell_type": "code",
   "execution_count": 28,
   "id": "1c71f70b-e54b-493d-af62-5e43f9490f8e",
   "metadata": {},
   "outputs": [
    {
     "data": {
      "text/plain": [
       "(17500,)"
      ]
     },
     "execution_count": 28,
     "metadata": {},
     "output_type": "execute_result"
    }
   ],
   "source": [
    "target_test.shape"
   ]
  },
  {
   "cell_type": "markdown",
   "id": "b23f7d94-c8fd-46a3-9a22-16823a02aa95",
   "metadata": {},
   "source": [
    "### Make a new target array (for only train dataset) that is composed of Boolean values (True for 5s and False for not 5s)\n",
    "* Name the new array target_array_train_5\n"
   ]
  },
  {
   "cell_type": "code",
   "execution_count": 47,
   "id": "eaf54214-ec02-4824-888a-1065c02342b2",
   "metadata": {},
   "outputs": [],
   "source": [
    "target_array_train_5 = target_train == 5\n",
    "\n"
   ]
  },
  {
   "cell_type": "code",
   "execution_count": 46,
   "id": "28e78a67-c709-4108-92eb-f757eb0cfb77",
   "metadata": {},
   "outputs": [
    {
     "name": "stdout",
     "output_type": "stream",
     "text": [
      "[ True False False ... False False False] [5 0 4 ... 7 1 4]\n"
     ]
    }
   ],
   "source": [
    "print(target_array_train_5, target_train)"
   ]
  },
  {
   "cell_type": "markdown",
   "id": "55328835-4085-425b-a73c-fec339225cdb",
   "metadata": {
    "tags": []
   },
   "source": [
    "### SGDClassifier\n",
    "* Name it sgd_clf\n",
    "* Fit the model to the data with the fives target\n",
    "* Check to see if it worked using the predict function on a specific sample you know is a 5; also a sample you know is not a 5\n",
    "    * Individual predictions will require a reshape (necessary command will appear in error)\n",
    "*** NB: would normally implement sklearn's StandardScaler on the digits data_array (not targets). Run a new cross_val_score and see if it improved accuracy.\n"
   ]
  },
  {
   "cell_type": "code",
   "execution_count": 112,
   "id": "fdff4302-6106-4a5b-9633-af8baea3a7a5",
   "metadata": {},
   "outputs": [],
   "source": [
    "from sklearn.linear_model import SGDClassifier\n"
   ]
  },
  {
   "cell_type": "code",
   "execution_count": 77,
   "id": "f3c9eb4d-1b4e-4d89-807b-9169251f6e74",
   "metadata": {},
   "outputs": [
    {
     "data": {
      "text/plain": [
       "SGDClassifier()"
      ]
     },
     "execution_count": 77,
     "metadata": {},
     "output_type": "execute_result"
    }
   ],
   "source": [
    "sgd_clf = SGDClassifier()\n",
    "sgd_clf.fit(X = data_train, y = target_array_train_5)"
   ]
  },
  {
   "cell_type": "code",
   "execution_count": 61,
   "id": "b7bb013a-2dc6-49dc-b6df-6c3ac37c9900",
   "metadata": {},
   "outputs": [
    {
     "data": {
      "text/plain": [
       "array([ True])"
      ]
     },
     "execution_count": 61,
     "metadata": {},
     "output_type": "execute_result"
    }
   ],
   "source": [
    "sgd_clf.predict(X = data_test[9].reshape(1,-1))"
   ]
  },
  {
   "cell_type": "code",
   "execution_count": 56,
   "id": "d8636cee-98c0-4240-87c1-fdc8fba3d517",
   "metadata": {},
   "outputs": [
    {
     "name": "stdout",
     "output_type": "stream",
     "text": [
      "[9 2 6 6 6 1 9 5 0 5]\n"
     ]
    }
   ],
   "source": [
    "print(target_test[0:10])"
   ]
  },
  {
   "cell_type": "markdown",
   "id": "98a5b327-4bf2-4163-8727-5c385dcc846a",
   "metadata": {
    "tags": []
   },
   "source": [
    "### StandardScaler"
   ]
  },
  {
   "cell_type": "code",
   "execution_count": 71,
   "id": "141395e8-186d-4314-8479-a43b41fac924",
   "metadata": {},
   "outputs": [],
   "source": [
    "from sklearn.preprocessing import StandardScaler\n",
    "# from sklearn.pipeline import make_pipeline"
   ]
  },
  {
   "cell_type": "code",
   "execution_count": 72,
   "id": "86ade10e-e58a-42a2-be32-d7e7b4a75a01",
   "metadata": {},
   "outputs": [
    {
     "data": {
      "text/plain": [
       "SGDClassifier()"
      ]
     },
     "execution_count": 72,
     "metadata": {},
     "output_type": "execute_result"
    }
   ],
   "source": [
    "scaler = StandardScaler()\n",
    "scaler.fit(data_train)\n",
    "data_train_scaled = scaler.transform(data_train)\n",
    "sgd_clf_sc = SGDClassifier()\n",
    "sgd_clf_sc.fit(X = data_train_scaled, y = target_array_train_5)"
   ]
  },
  {
   "cell_type": "markdown",
   "id": "3d29df6b-2979-4233-aa32-2513fa8f8e65",
   "metadata": {},
   "source": [
    "### cross_val_score\n",
    "* Implement it using 3-fold cross validation, scoring for accuracy\n"
   ]
  },
  {
   "cell_type": "code",
   "execution_count": 73,
   "id": "a4d4fbc2-d6ad-4853-8598-c60c65d8fd00",
   "metadata": {},
   "outputs": [],
   "source": [
    "from sklearn.model_selection import cross_val_score"
   ]
  },
  {
   "cell_type": "code",
   "execution_count": 78,
   "id": "30a367a9-8e38-435f-beda-0e842d7149ec",
   "metadata": {},
   "outputs": [
    {
     "data": {
      "text/plain": [
       "array([0.95468571, 0.95931429, 0.96617143])"
      ]
     },
     "execution_count": 78,
     "metadata": {},
     "output_type": "execute_result"
    }
   ],
   "source": [
    "cross_val_score(sgd_clf, data_train, target_array_train_5, cv=3)"
   ]
  },
  {
   "cell_type": "code",
   "execution_count": 76,
   "id": "5713b3d0-ca34-461b-9971-bdfdf14faf92",
   "metadata": {},
   "outputs": [
    {
     "data": {
      "text/plain": [
       "array([0.97045714, 0.96857143, 0.9652    ])"
      ]
     },
     "execution_count": 76,
     "metadata": {},
     "output_type": "execute_result"
    }
   ],
   "source": [
    "cross_val_score(sgd_clf_sc, data_train_scaled, target_array_train_5, cv=3)"
   ]
  },
  {
   "cell_type": "markdown",
   "id": "45dfe506-c95d-41e4-a231-d609a3f94bbd",
   "metadata": {},
   "source": [
    "### Calculate the accuracy if the model always predicted not-5\n"
   ]
  },
  {
   "cell_type": "code",
   "execution_count": 88,
   "id": "8e7d84e1-a6f5-4042-b0ca-d30dd3e74d45",
   "metadata": {},
   "outputs": [
    {
     "data": {
      "text/plain": [
       "4739"
      ]
     },
     "execution_count": 88,
     "metadata": {},
     "output_type": "execute_result"
    }
   ],
   "source": [
    "sum(target_array_train_5)"
   ]
  },
  {
   "cell_type": "code",
   "execution_count": 89,
   "id": "64320864-8b73-42c2-8828-43fa6de4f660",
   "metadata": {},
   "outputs": [
    {
     "data": {
      "text/plain": [
       "(52500,)"
      ]
     },
     "execution_count": 89,
     "metadata": {},
     "output_type": "execute_result"
    }
   ],
   "source": [
    "target_array_train_5.shape"
   ]
  },
  {
   "cell_type": "code",
   "execution_count": 91,
   "id": "c33febce-b4ab-4774-99fc-9f767572cd89",
   "metadata": {},
   "outputs": [
    {
     "data": {
      "text/plain": [
       "0.9097333333333333"
      ]
     },
     "execution_count": 91,
     "metadata": {},
     "output_type": "execute_result"
    }
   ],
   "source": [
    "# Accuracy=(TP+TN)/(TP+TN+FP+FN)\n",
    "# TP = (52500-4739) TN =  FP = 4739 FN = 0\n",
    "(52500-4739)/(52500)"
   ]
  },
  {
   "cell_type": "markdown",
   "id": "8d3bdd18-ec4c-4f9e-805b-8139aa16783f",
   "metadata": {},
   "source": [
    "### cross_val_predict \n",
    "* Name the array of predictions target_array_train_5_pred"
   ]
  },
  {
   "cell_type": "code",
   "execution_count": 92,
   "id": "05503118-6230-4ac4-862e-25a75d04fa6f",
   "metadata": {},
   "outputs": [],
   "source": [
    "from sklearn.model_selection import cross_val_predict\n",
    "target_array_train_5_pred = cross_val_predict(sgd_clf_sc, data_train_scaled, target_array_train_5, cv=3)"
   ]
  },
  {
   "cell_type": "code",
   "execution_count": 93,
   "id": "29b5139a-fc61-4ca4-b502-32ae6040a64d",
   "metadata": {},
   "outputs": [
    {
     "data": {
      "text/plain": [
       "array([False, False, False, ..., False, False, False])"
      ]
     },
     "execution_count": 93,
     "metadata": {},
     "output_type": "execute_result"
    }
   ],
   "source": [
    "target_array_train_5_pred"
   ]
  },
  {
   "cell_type": "markdown",
   "id": "2c24fdb8-01e8-47e9-a8e6-b65d999b8db5",
   "metadata": {},
   "source": [
    "### precision_score; recall_score"
   ]
  },
  {
   "cell_type": "code",
   "execution_count": 94,
   "id": "6bd17b39-bf08-41e3-98ea-a70991c4f364",
   "metadata": {},
   "outputs": [
    {
     "data": {
      "text/plain": [
       "0.8641214133270098"
      ]
     },
     "execution_count": 94,
     "metadata": {},
     "output_type": "execute_result"
    }
   ],
   "source": [
    "from sklearn.metrics import precision_score #precision is the ratio tp / (tp + fp) i.e. how good at not calling positive a sample actually negative\n",
    "precision_score(target_array_train_5, target_array_train_5_pred)"
   ]
  },
  {
   "cell_type": "code",
   "execution_count": 95,
   "id": "77b38f16-f966-46af-a83e-9eb30c90a534",
   "metadata": {},
   "outputs": [
    {
     "data": {
      "text/plain": [
       "0.7689385946402194"
      ]
     },
     "execution_count": 95,
     "metadata": {},
     "output_type": "execute_result"
    }
   ],
   "source": [
    "from sklearn.metrics import recall_score  #recall is the ratio tp / (tp + fn) i.e. ability to find all positive samples\n",
    "recall_score(target_array_train_5, target_array_train_5_pred)"
   ]
  },
  {
   "cell_type": "code",
   "execution_count": 97,
   "id": "0d813eb1-7d0d-4ec1-85de-0f22671a2180",
   "metadata": {},
   "outputs": [],
   "source": [
    "from sklearn.metrics import precision_recall_fscore_support"
   ]
  },
  {
   "cell_type": "code",
   "execution_count": 99,
   "id": "1bbad741-cb43-429c-b9db-678a47f96893",
   "metadata": {},
   "outputs": [
    {
     "data": {
      "text/plain": [
       "(0.8641214133270098, 0.7689385946402194, 0.8137561411344351, None)"
      ]
     },
     "execution_count": 99,
     "metadata": {},
     "output_type": "execute_result"
    }
   ],
   "source": [
    "precision_recall_fscore_support(target_array_train_5, target_array_train_5_pred, average='binary')"
   ]
  },
  {
   "cell_type": "markdown",
   "id": "1a71de58-02bf-4254-b80c-24f81677af41",
   "metadata": {},
   "source": [
    "### roc_curve\n",
    "* Run cross_val_predict as before, but add method='decision_function'\n",
    "* Use matplotlib plot to create ROC curve figure"
   ]
  },
  {
   "cell_type": "code",
   "execution_count": 96,
   "id": "b41ee1fa-912b-48e9-8310-e3ddde73190a",
   "metadata": {},
   "outputs": [],
   "source": [
    "target_array_train_5_predroc = cross_val_predict(sgd_clf_sc, data_train_scaled, target_array_train_5, cv=3, method='decision_function')"
   ]
  },
  {
   "cell_type": "code",
   "execution_count": 104,
   "id": "7ebaca50-0268-40c6-8c3f-d464ec35a727",
   "metadata": {},
   "outputs": [],
   "source": [
    "from sklearn import metrics\n",
    "fpr, tpr, thresholds = metrics.roc_curve(target_array_train_5, target_array_train_5_predroc)"
   ]
  },
  {
   "cell_type": "code",
   "execution_count": 110,
   "id": "0b6a80c4-8e82-4374-8fbe-24810d4088a3",
   "metadata": {},
   "outputs": [
    {
     "data": {
      "image/png": "[encoded data removed]",
      "text/plain": [
       "<Figure size 432x288 with 1 Axes>"
      ]
     },
     "metadata": {
      "needs_background": "light"
     },
     "output_type": "display_data"
    }
   ],
   "source": [
    "plt.title('ROC curve')\n",
    "plt.plot(fpr, tpr, color=\"darkgreen\",\n",
    "    label=\"ROC curve\")\n",
    "plt.plot([0, 1], [0, 1],color=\"navy\")\n",
    "plt.xlim([0, 1])\n",
    "plt.ylim([0, 1])\n",
    "plt.ylabel('True Positive Rate')\n",
    "plt.xlabel('False Positive Rate')\n",
    "plt.legend(loc=\"lower right\")\n",
    "plt.show()"
   ]
  },
  {
   "cell_type": "markdown",
   "id": "a1d093f4-4f07-4bb8-afaa-462fd9c6fe16",
   "metadata": {},
   "source": [
    "### roc_auc_score"
   ]
  },
  {
   "cell_type": "code",
   "execution_count": 109,
   "id": "63d131ec-b369-4154-9765-c6963423d02a",
   "metadata": {},
   "outputs": [
    {
     "data": {
      "text/plain": [
       "0.9732092840989902"
      ]
     },
     "execution_count": 109,
     "metadata": {},
     "output_type": "execute_result"
    }
   ],
   "source": [
    "from sklearn.metrics import roc_auc_score\n",
    "roc_auc = roc_auc_score(target_array_train_5, target_array_train_5_predroc)\n",
    "roc_auc # want area under curve as close to 1 as possible - indicates with stringent thresholds taking FPR v low you still get high TPR"
   ]
  },
  {
   "cell_type": "markdown",
   "id": "c42e41bd-2e4e-4dfc-86c4-e9f1af763fdf",
   "metadata": {},
   "source": [
    "### Find the cross_val_pred for the SGD classifier using all 10 classes (change targets)\n",
    "* Use a new variable target_array_train_pred to save predictions "
   ]
  },
  {
   "cell_type": "code",
   "execution_count": 113,
   "id": "cf01346e-5bc0-488a-b9c5-093dac9d3f63",
   "metadata": {},
   "outputs": [
    {
     "data": {
      "text/plain": [
       "SGDClassifier()"
      ]
     },
     "execution_count": 113,
     "metadata": {},
     "output_type": "execute_result"
    }
   ],
   "source": [
    "sgd_clf_multi = SGDClassifier()\n",
    "sgd_clf_multi.fit(X = data_train, y = target_train)"
   ]
  },
  {
   "cell_type": "code",
   "execution_count": 116,
   "id": "d1233e85-d58c-471c-bc6b-ef30cdb4ed92",
   "metadata": {},
   "outputs": [
    {
     "name": "stdout",
     "output_type": "stream",
     "text": [
      "[9 2 6 6 6 1 9 5 0 5]\n"
     ]
    }
   ],
   "source": [
    "print(target_test[0:10])"
   ]
  },
  {
   "cell_type": "code",
   "execution_count": 117,
   "id": "9574be43-6282-477d-af03-53ef338640ab",
   "metadata": {},
   "outputs": [
    {
     "data": {
      "text/plain": [
       "array([1], dtype=uint8)"
      ]
     },
     "execution_count": 117,
     "metadata": {},
     "output_type": "execute_result"
    }
   ],
   "source": [
    "sgd_clf_multi.predict(X = data_test[5].reshape(1,-1))"
   ]
  },
  {
   "cell_type": "code",
   "execution_count": 114,
   "id": "2352a59c-6d60-4bd6-add5-a27298c01d15",
   "metadata": {},
   "outputs": [
    {
     "data": {
      "text/plain": [
       "array([0.84977143, 0.87291429, 0.84148571])"
      ]
     },
     "execution_count": 114,
     "metadata": {},
     "output_type": "execute_result"
    }
   ],
   "source": [
    "# cross_val_score\n",
    "cross_val_score(sgd_clf_multi, data_train, target_train, cv=3)"
   ]
  },
  {
   "cell_type": "code",
   "execution_count": 115,
   "id": "0f3d511b-ef4a-46f4-b8c4-a5819873f881",
   "metadata": {},
   "outputs": [
    {
     "data": {
      "text/plain": [
       "array([5, 0, 4, ..., 7, 1, 4], dtype=uint8)"
      ]
     },
     "execution_count": 115,
     "metadata": {},
     "output_type": "execute_result"
    }
   ],
   "source": [
    "# cross_val_predict\n",
    "target_train_pred = cross_val_predict(sgd_clf_multi, data_train, target_train, cv=3)\n",
    "target_train_pred"
   ]
  },
  {
   "cell_type": "code",
   "execution_count": 118,
   "id": "cad3db53-df73-42f1-b7a7-20ee23b1fbd4",
   "metadata": {},
   "outputs": [
    {
     "data": {
      "text/plain": [
       "(0.8662035049495079, 0.863771980908908, 0.8640658555042853, None)"
      ]
     },
     "execution_count": 118,
     "metadata": {},
     "output_type": "execute_result"
    }
   ],
   "source": [
    "precision_recall_fscore_support(target_train, target_train_pred, average='macro')"
   ]
  },
  {
   "cell_type": "code",
   "execution_count": 119,
   "id": "3a47c3ff-207a-4ecb-88bf-c257c79259b7",
   "metadata": {},
   "outputs": [
    {
     "name": "stderr",
     "output_type": "stream",
     "text": [
      "/Users/judithsayers/opt/anaconda3/lib/python3.9/site-packages/sklearn/linear_model/_stochastic_gradient.py:696: ConvergenceWarning: Maximum number of iteration reached before convergence. Consider increasing max_iter to improve the fit.\n",
      "  warnings.warn(\n"
     ]
    },
    {
     "data": {
      "text/plain": [
       "SGDClassifier()"
      ]
     },
     "execution_count": 119,
     "metadata": {},
     "output_type": "execute_result"
    }
   ],
   "source": [
    "### repeat for scaled data ###\n",
    "sgd_clf_multi_sc = SGDClassifier() # or = SGDClassifier(max_iter = 1000, tol = 1e-3)\n",
    "sgd_clf_multi_sc.fit(X = data_train_scaled, y = target_train)\n"
   ]
  },
  {
   "cell_type": "code",
   "execution_count": 120,
   "id": "899aec23-06cc-41de-a4b0-9c43e32aecf5",
   "metadata": {},
   "outputs": [
    {
     "name": "stderr",
     "output_type": "stream",
     "text": [
      "/Users/judithsayers/opt/anaconda3/lib/python3.9/site-packages/sklearn/linear_model/_stochastic_gradient.py:696: ConvergenceWarning: Maximum number of iteration reached before convergence. Consider increasing max_iter to improve the fit.\n",
      "  warnings.warn(\n",
      "/Users/judithsayers/opt/anaconda3/lib/python3.9/site-packages/sklearn/linear_model/_stochastic_gradient.py:696: ConvergenceWarning: Maximum number of iteration reached before convergence. Consider increasing max_iter to improve the fit.\n",
      "  warnings.warn(\n"
     ]
    },
    {
     "data": {
      "text/plain": [
       "array([0.9008    , 0.89971429, 0.89708571])"
      ]
     },
     "execution_count": 120,
     "metadata": {},
     "output_type": "execute_result"
    }
   ],
   "source": [
    "# cross_val_score scaled\n",
    "cross_val_score(sgd_clf_multi_sc, data_train_scaled, target_train, cv=3)"
   ]
  },
  {
   "cell_type": "code",
   "execution_count": 121,
   "id": "3745161f-0f6e-4fdb-952d-df7b03d40f35",
   "metadata": {},
   "outputs": [
    {
     "name": "stderr",
     "output_type": "stream",
     "text": [
      "/Users/judithsayers/opt/anaconda3/lib/python3.9/site-packages/sklearn/linear_model/_stochastic_gradient.py:696: ConvergenceWarning: Maximum number of iteration reached before convergence. Consider increasing max_iter to improve the fit.\n",
      "  warnings.warn(\n",
      "/Users/judithsayers/opt/anaconda3/lib/python3.9/site-packages/sklearn/linear_model/_stochastic_gradient.py:696: ConvergenceWarning: Maximum number of iteration reached before convergence. Consider increasing max_iter to improve the fit.\n",
      "  warnings.warn(\n"
     ]
    },
    {
     "data": {
      "text/plain": [
       "array([3, 0, 4, ..., 7, 1, 4], dtype=uint8)"
      ]
     },
     "execution_count": 121,
     "metadata": {},
     "output_type": "execute_result"
    }
   ],
   "source": [
    "# cross_val_predict scaled\n",
    "target_train_pred_sc = cross_val_predict(sgd_clf_multi_sc, data_train_scaled, target_train, cv=3)\n",
    "target_train_pred_sc"
   ]
  },
  {
   "cell_type": "code",
   "execution_count": 136,
   "id": "f0b9ccf9-35fa-4146-8374-89f88a096cfe",
   "metadata": {},
   "outputs": [
    {
     "data": {
      "text/plain": [
       "(0.9056925292351288, 0.898778273849411, 0.9002747820188478, None)"
      ]
     },
     "execution_count": 136,
     "metadata": {},
     "output_type": "execute_result"
    }
   ],
   "source": [
    "precision_recall_fscore_support(target_train, target_train_pred_sc, average='macro')"
   ]
  },
  {
   "cell_type": "markdown",
   "id": "72fea275-944c-430d-9371-a00c2bacd530",
   "metadata": {},
   "source": [
    "### confusion_matrix"
   ]
  },
  {
   "cell_type": "code",
   "execution_count": null,
   "id": "b21d41ba-b140-4d8b-9718-aa5f813fd6ce",
   "metadata": {},
   "outputs": [],
   "source": [
    "# matrix to visualise class-wise errors and where they are being made in the model. \n",
    "# Anything off the diagonal is an error - if on the error, this shows true class = predicted class. \n",
    "# NB can take steps to mitigate - eg if 5s and 8s always being confused, can add more training data in these categories\n",
    "# row = true value, column = predicted value"
   ]
  },
  {
   "cell_type": "code",
   "execution_count": 132,
   "id": "2837e628-7412-486d-9d7d-e661e0e12b11",
   "metadata": {},
   "outputs": [],
   "source": [
    "from sklearn.metrics import confusion_matrix"
   ]
  },
  {
   "cell_type": "code",
   "execution_count": 134,
   "id": "b9d5a315-5b17-489f-9f05-d1dd054601b9",
   "metadata": {},
   "outputs": [
    {
     "name": "stdout",
     "output_type": "stream",
     "text": [
      "[[4880    0   24    6    8   51   32    3  179    1]\n",
      " [   1 5650   38   26    3   42    3    6  169   10]\n",
      " [  23   27 4587   87   57   27   59   32  294   10]\n",
      " [  18   15  111 4584    1  201   23   40  294   64]\n",
      " [  11   11   43    7 4554   10   35   17  247  154]\n",
      " [  25   15   32  148   47 3926   72   15  394   65]\n",
      " [  25   16   34    2   45   87 4885    7  103    0]\n",
      " [  14   12   50   26   42   12    4 4949  133  207]\n",
      " [  20   56   43   88    3  107   29    7 4714   37]\n",
      " [  20   18   27   57  117   33    2  160  275 4520]]\n"
     ]
    }
   ],
   "source": [
    "cm_SGD= confusion_matrix(target_train, target_train_pred_sc)\n",
    "print(cm_SGD)"
   ]
  },
  {
   "cell_type": "code",
   "execution_count": 137,
   "id": "fe2373ed-555f-4e2b-9df0-c99537611e33",
   "metadata": {},
   "outputs": [
    {
     "data": {
      "text/plain": [
       "<AxesSubplot:>"
      ]
     },
     "execution_count": 137,
     "metadata": {},
     "output_type": "execute_result"
    },
    {
     "data": {
      "image/png": "[encoded data removed]",
      "text/plain": [
       "<Figure size 720x504 with 2 Axes>"
      ]
     },
     "metadata": {
      "needs_background": "light"
     },
     "output_type": "display_data"
    }
   ],
   "source": [
    "import seaborn as sn\n",
    "import pandas as pd\n",
    "confusion_matrix_plot = pd.DataFrame(cm_SGD, index = [i for i in \"0123456789\"],\n",
    "                  columns = [i for i in \"0123456789\"])\n",
    "plt.figure(figsize = (10,7))\n",
    "sn.heatmap(cm_SGD, annot=True, fmt = 'd')"
   ]
  },
  {
   "cell_type": "code",
   "execution_count": null,
   "id": "9290a3e3-c6be-4a96-9e62-54b20637c0c4",
   "metadata": {},
   "outputs": [],
   "source": []
  }
 ],
 "metadata": {
  "kernelspec": {
   "display_name": "Python 3 (ipykernel)",
   "language": "python",
   "name": "python3"
  },
  "language_info": {
   "codemirror_mode": {
    "name": "ipython",
    "version": 3
   },
   "file_extension": ".py",
   "mimetype": "text/x-python",
   "name": "python",
   "nbconvert_exporter": "python",
   "pygments_lexer": "ipython3",
   "version": "3.9.12"
  }
 },
 "nbformat": 4,
 "nbformat_minor": 5
}
